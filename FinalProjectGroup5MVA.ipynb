{
  "nbformat": 4,
  "nbformat_minor": 0,
  "metadata": {
    "colab": {
      "provenance": [],
      "include_colab_link": true
    },
    "kernelspec": {
      "name": "python3",
      "display_name": "Python 3"
    },
    "language_info": {
      "name": "python"
    }
  },
  "cells": [
    {
      "cell_type": "markdown",
      "metadata": {
        "id": "view-in-github",
        "colab_type": "text"
      },
      "source": [
        "<a href=\"https://colab.research.google.com/github/estahr/mva-project/blob/main/FinalProjectGroup5MVA.ipynb\" target=\"_parent\"><img src=\"https://colab.research.google.com/assets/colab-badge.svg\" alt=\"Open In Colab\"/></a>"
      ]
    },
    {
      "cell_type": "markdown",
      "source": [
        "# **A Multivariate Analysis of Baseball Player's Batting Statistics and Salaries**\n",
        "**ISQS 6350**\n",
        "\n",
        "**Group 5: Daniel Brauckman, Jordan Gussett, Bryan Loeffler and Elijah Stahr**"
      ],
      "metadata": {
        "id": "KDpAevc3dL6P"
      }
    },
    {
      "cell_type": "markdown",
      "source": [
        "# Introduction\n"
      ],
      "metadata": {
        "id": "NSrtIshJv4Ij"
      }
    },
    {
      "cell_type": "markdown",
      "source": [
        "This project is based around doing multivariate analysis on baseball statistics. We use a publicly available dataset on Kaggle, involving baseball players names, various batting statistics, and salary information. Each observation (row) corresponds to a unique player in the MLB in the 2015 seawson, and each variable (column) corresponds to one of the various statistics recorded for each player. Our goal is to analyze the pay of athletes, and see if salary can be predicted or understood by various batting statistics. We also seek to understand if a player may be overvalued or undervalued based on their batting statistics relative to their salary. All of these statistical explorations have motivations in a better understanding of the game of baseball, and could even possibly be applied to more efficiently manage baseball teams. For example, if a rookie player is found to be clustered with many highly paid, established players, it may be benficial for a team to trade for the player while their salary is still relatively low.  "
      ],
      "metadata": {
        "id": "li06n4JB97b7"
      }
    },
    {
      "cell_type": "markdown",
      "source": [
        "# Data Cleaning and Visualization"
      ],
      "metadata": {
        "id": "xu-6D2fcwZrG"
      }
    },
    {
      "cell_type": "markdown",
      "source": [
        "We start by allowing for R usage in Jupyter Notebook."
      ],
      "metadata": {
        "id": "sD0bWgLMwFK2"
      }
    },
    {
      "cell_type": "code",
      "execution_count": null,
      "metadata": {
        "id": "1XFSJmJyo19h"
      },
      "outputs": [],
      "source": [
        "%load_ext rpy2.ipython"
      ]
    },
    {
      "cell_type": "markdown",
      "source": [
        "We decided to use data from 2015, as it is the most current and impactful on modern salaries. We also removed data with 3 or less at bats. This is to remove any outliers due to low data. Finally, by the nature of our merge, we only retain players with recorded salaries. This is fine, because we plan on analyzing the salaries anyway. Addiationally, the batting dataset required some cleaning before merging, as playerIDs (our planned column for join) were not unique due to mid-season trades. We account for this by summing statistics between the teams, as we care about the season statistics for the player without regard for their team.\n",
        "\n",
        "**we should put the following code in an appendix for the final project, he says to not have long code sections in the report itself**"
      ],
      "metadata": {
        "id": "mIvB1Ofhwhcd"
      }
    },
    {
      "cell_type": "code",
      "source": [
        "%%R\n",
        "\n",
        "#load data sets\n",
        "batting <- read.csv(\"https://raw.githubusercontent.com/estahr/mva-project/main/Batting.csv\")\n",
        "master <- read.csv(\"https://github.com/estahr/mva-project/raw/main/Master.csv\")\n",
        "salaries <- read.csv(\"https://raw.githubusercontent.com/estahr/mva-project/main/Salaries.csv\")\n",
        "\n",
        "#keep only 2015 data, and remove columns that we are not analyzing\n",
        "\n",
        "batting2015 = batting[which(batting$yearID == 2015),]\n",
        "batting2015 = batting2015[,-c(2:5)]\n",
        "master = master[,c(1,16)]\n",
        "salaries2015 = salaries[which(salaries$yearID == 2015),]\n",
        "salaries2015 = salaries2015[,-c(1:3)]\n",
        "\n",
        "# we prepare for merge by checking if playerID is unique for all datasets\n",
        "\n",
        "print(\"Non unique playerID in salaries dataset:\" )\n",
        "print(length(salaries2015$playerID)-length(unique(salaries2015$playerID)))\n",
        "print(\"Non unique playerID in master dataset:\" )\n",
        "print(nrow(master)-nrow(unique(master)))\n",
        "print(\"Non unique playerID in batting dataset:\" )\n",
        "print(length(batting2015$playerID) - length(unique(batting2015$playerID)))\n",
        "\n",
        "# We can see that we need to adjust the batting dataset to have unique playerID.\n",
        "# The reason the playerID is not unique is because mid-season trades duplicate the playerID.\n",
        "# We don't care what team the player played for, just their stats, so we will combine rows and add stats.\n",
        "\n",
        "\n",
        "batting2015 = aggregate(batting2015[,-1], batting2015[\"playerID\"], sum)\n",
        "\n",
        "print(\"Non unique playerID in batting dataset (after sum):\" )\n",
        "print(length(batting2015$playerID) - length(unique(batting2015$playerID)))\n",
        "\n",
        "#Now all playerID values are unique and we can merge\n",
        "\n",
        "data = merge(master, batting2015)\n",
        "data = merge(data, salaries2015)\n",
        "\n",
        "print(\"Merged Size\" )\n",
        "print(dim(data))\n",
        "\n",
        "print(\"Size after removing missing data (there is none):\")\n",
        "data = na.omit(data)\n",
        "print(dim(data))\n",
        "\n",
        "print(\"Size after removing players with 3 or less at bats:\")\n",
        "data = data[-which(data$AB <= 3),]\n",
        "print(dim(data))"
      ],
      "metadata": {
        "colab": {
          "base_uri": "https://localhost:8080/"
        },
        "id": "69t8eftJwhxc",
        "outputId": "c29ec6b8-3f46-4db1-d27a-1f77f7a1eb1c"
      },
      "execution_count": null,
      "outputs": [
        {
          "output_type": "stream",
          "name": "stdout",
          "text": [
            "[1] \"Non unique playerID in salaries dataset:\"\n",
            "[1] 0\n",
            "[1] \"Non unique playerID in master dataset:\"\n",
            "[1] 0\n",
            "[1] \"Non unique playerID in batting dataset:\"\n",
            "[1] 138\n",
            "[1] \"Non unique playerID in batting dataset (after sum):\"\n",
            "[1] 0\n",
            "[1] \"Merged Size\"\n",
            "[1] 813  20\n",
            "[1] \"Size after removing missing data (there is none):\"\n",
            "[1] 813  20\n",
            "[1] \"Size after removing players with 3 or less at bats:\"\n",
            "[1] 531  20\n"
          ]
        }
      ]
    },
    {
      "cell_type": "markdown",
      "source": [
        "#"
      ],
      "metadata": {
        "id": "r4pK_aCZ9lgh"
      }
    }
  ]
}